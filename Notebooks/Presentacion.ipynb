{
 "cells": [
  {
   "cell_type": "markdown",
   "id": "aaa7b5b1-34a3-4bc7-9b54-8f4451ccfe7f",
   "metadata": {},
   "source": [
    "# FORTRAN"
   ]
  },
  {
   "cell_type": "markdown",
   "id": "2c96d3d1-6d31-433a-af27-4dabfbb9b698",
   "metadata": {},
   "source": [
    "------------------------------------------\n",
    "### google chat\n",
    "enviar un mail oficial a :\n",
    "\n",
    "edgardo.bonzi@unc.edu.ar\n",
    "\n",
    "y colocar en el Asunto: `FORTRAN 2022`\n",
    "\n",
    "------------------------------------------"
   ]
  },
  {
   "cell_type": "markdown",
   "id": "0d2fc128-62c2-4e9f-81f3-19bef0104275",
   "metadata": {},
   "source": [
    "FORTRAN (contracción del inglés The IBM Mathematical `For`mula `Tran`slating System) es un lenguaje de programación de alto nivel de propósito general, procedimental e imperativo, que está `especialmente adaptado al cálculo numérico y a la computación científica`. \n",
    "\n",
    "-----------------------------------------"
   ]
  },
  {
   "cell_type": "markdown",
   "id": "cec6a8ce-4b26-415a-a13c-3254b43ca81f",
   "metadata": {},
   "source": [
    "FORTRAN domina esta área de la programación desde el principio y ha estado en uso continuo por más de medio siglo en áreas de cómputo intensivo tales como:\n",
    "\n",
    "1. la predicción numérica del tiempo, \n",
    "2. análisis de elementos finitos, \n",
    "3. dinámica de fluidos computacional (CFD), \n",
    "4. física computacional y química computacional. \n",
    "\n",
    "Es uno de los lenguajes más populares en el área de la `computación de alto rendimiento` y es el lenguaje usado para programas que evalúan el desempeño (benchmark) y el ranking de los supercomputadores más rápidos del mundo.\n",
    "()"
   ]
  },
  {
   "cell_type": "markdown",
   "id": "7a67df6b-8fad-4ed8-983f-71f628d17547",
   "metadata": {},
   "source": [
    "## Un poco de historia\n",
    "(https://es.wikipedia.org/wiki/Fortran)\n",
    "\n",
    "------------------------------------------------------"
   ]
  },
  {
   "cell_type": "markdown",
   "id": "14539e57-9f1e-490e-bc57-ae338bae53fa",
   "metadata": {},
   "source": [
    "## Getting Started\n",
    "(https://fortran-lang.org/learn/)\n",
    "\n",
    "-------------------------------------------------------"
   ]
  },
  {
   "cell_type": "markdown",
   "id": "de08c311-c21e-4afe-abae-3aa2b56c40d1",
   "metadata": {},
   "source": [
    "# Un código ANSI\n",
    "\n",
    "(https://www.ansi.org/)\n",
    "\n",
    "(https://www.ansi.org/search#q=fortran&sort=relevancy)\n",
    "\n",
    "------------------------------------------------"
   ]
  },
  {
   "cell_type": "markdown",
   "id": "00540a27-b07d-4785-ba36-277fcf358420",
   "metadata": {},
   "source": [
    "## FORTRAN 2018\n",
    "J3/18-007r1 (F2018 Interpretation Document): (https://j3-fortran.org/doc/year/18/18-007r1.pdf)\n",
    "\n",
    "TS 29113 Further `Interoperability of Fortran with C`: (https://fortranwiki.org/fortran/show/Fortran+2018)\n",
    "\n",
    "Technical Specification 18508: (https://fortranwiki.org/fortran/show/TS+18508)\n",
    "\n",
    "INTERNATIONAL STANDARD ISO/IEC DIS 1539-1: (https://isotc.iso.org/livelink/livelink/nfetch/-8919044/8919782/8919787/18770498/ISO%2DIECJTC1%2DSC22%2DWG5_N2146_Fortran_2018_Draft_International_Standard_for_Ballot.pdf?nodeid=19442438&vernum=0)\n",
    "\n",
    "------------------------------------------------------------------------------"
   ]
  },
  {
   "cell_type": "markdown",
   "id": "b2436ae8-c623-4835-979c-078ff626354a",
   "metadata": {},
   "source": [
    "## Lista de software de química cuántica y física del estado sólido\n",
    "\n",
    "\n",
    "Los programas informáticos de `física del estado sólido` y `física-química cuántica` se utilizan en cálculos computacional para implementar los `métodos de cuántica`.\n",
    "\n",
    "Varios de los cálculos *ab initio* incluyen los métodos Hartree-Fock (HF) y algunos posteriores a Hartree-Fock.\n",
    "\n",
    "Los más modernos incluyen la **`Teoría del Funcional Densidad (DFT)`**, la mecánica molecular o los métodos semiempíricos de química cuántica.\n",
    "\n",
    "Los programas incluyen software comercial y de código abierto.\n",
    "\n",
    "La mayoría de ellos son grandes, a menudo contienen varios programas separados y se han desarrollado durante muchos años.\n",
    "\n",
    "(https://en.wikipedia.org/wiki/List_of_quantum_chemistry_and_solid-state_physics_software)\n",
    "\n",
    "-------------------------------------------------------------------"
   ]
  },
  {
   "cell_type": "markdown",
   "id": "0221129a-6112-4aeb-af6d-75e32eee56d7",
   "metadata": {},
   "source": [
    "## Compiladores FORTRAN \n",
    "Fortran tiene más de una docena de compiladores comerciales y de código abierto.\n",
    "(https://fortran-lang.org/compilers/)\n",
    "\n",
    "--------------------------------------------------------"
   ]
  },
  {
   "cell_type": "markdown",
   "id": "70054b0b-2ba4-42b3-945a-8772a3f56cf7",
   "metadata": {},
   "source": [
    "## Welcome to the Intel® Fortran Compiler\n",
    "(https://www.intel.com/content/www/us/en/developer/tools/oneapi/fortran-compiler.html#gs.u3bap3)\n"
   ]
  },
  {
   "cell_type": "markdown",
   "id": "24c1a75c-2071-4e49-ad3c-8db6c4797bd8",
   "metadata": {},
   "source": [
    "-----------------------------------"
   ]
  },
  {
   "cell_type": "markdown",
   "id": "8d1f7158-78ab-4aa7-b8a3-9865eef033b0",
   "metadata": {},
   "source": [
    "## Welcome to the home of GNU Fortran\n",
    "(https://gcc.gnu.org/fortran/)"
   ]
  },
  {
   "cell_type": "markdown",
   "id": "f2da64a7-825e-46be-8646-50be8f1dc1f7",
   "metadata": {},
   "source": [
    "## Welcome to the Google Colaboratory\n",
    "\n",
    "Página de inicio\n",
    "\n",
    "(https://colab.research.google.com/?utm_source=scs-index)"
   ]
  },
  {
   "cell_type": "code",
   "execution_count": null,
   "id": "33a81b9f-3db6-4df6-8bd1-547d0d4aeff8",
   "metadata": {},
   "outputs": [],
   "source": []
  }
 ],
 "metadata": {
  "kernelspec": {
   "display_name": "Python 3",
   "language": "python",
   "name": "python3"
  },
  "language_info": {
   "codemirror_mode": {
    "name": "ipython",
    "version": 3
   },
   "file_extension": ".py",
   "mimetype": "text/x-python",
   "name": "python",
   "nbconvert_exporter": "python",
   "pygments_lexer": "ipython3",
   "version": "3.8.10"
  }
 },
 "nbformat": 4,
 "nbformat_minor": 5
}
